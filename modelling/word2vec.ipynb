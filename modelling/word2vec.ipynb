{
 "cells": [
  {
   "cell_type": "code",
   "execution_count": 41,
   "metadata": {},
   "outputs": [],
   "source": [
    "import pickle\n",
    "from nltk.tokenize import sent_tokenize\n",
    "from gensim.models import Word2Vec\n",
    "import re\n",
    "from itertools import chain\n",
    "# ignore warnings\n",
    "import warnings\n",
    "from numpy.random import seed\n",
    "warnings.simplefilter(action='ignore', category=DeprecationWarning)"
   ]
  },
  {
   "cell_type": "code",
   "execution_count": 42,
   "metadata": {},
   "outputs": [],
   "source": [
    "# set seed\n",
    "seed(42)"
   ]
  },
  {
   "cell_type": "code",
   "execution_count": 43,
   "metadata": {},
   "outputs": [],
   "source": [
    "with open('enriched_thomann_data.pickle', 'rb') as f:\n",
    "        thomann_data = pickle.load(f)"
   ]
  },
  {
   "cell_type": "code",
   "execution_count": 128,
   "metadata": {},
   "outputs": [],
   "source": [
    "# bringe spalte ins richtige Format für Word2Vec\n",
    "sentence_list = [[i.split() for i in thomann_data[\"tokenSent_pp_neg\"][j]] for j, _ in enumerate(thomann_data[\"tokenSent_pp_neg\"])]\n",
    "# unnest list\n",
    "sentence_list = list(chain.from_iterable(sentence_list))\n",
    "# entferne Punkte\n",
    "sentence_list = [[re.sub(\"[\\.\\!\\?]\", \"\", i) for i in sentence_list[j]] for j, _ in enumerate(sentence_list)]\n",
    "# trainiere Word2Vec Model\n",
    "w2v_model = Word2Vec(sentence_list, size=200, window=10, min_count=1)"
   ]
  },
  {
   "cell_type": "code",
   "execution_count": 129,
   "metadata": {},
   "outputs": [],
   "source": [
    "with open('w2v_model.pickle', 'wb') as f:\n",
    "        pickle.dump(w2v_model, f, protocol=2)"
   ]
  },
  {
   "cell_type": "code",
   "execution_count": 119,
   "metadata": {},
   "outputs": [
    {
     "data": {
      "text/plain": [
       "[('scheint', 0.796855092048645),\n",
       " ('not_toll', 0.7824933528900146),\n",
       " ('not_einwandfrei', 0.7559014558792114),\n",
       " ('herstellung', 0.7540820837020874),\n",
       " ('not_gut', 0.753695011138916),\n",
       " ('festmacht', 0.75138258934021),\n",
       " ('schlampig', 0.7507777810096741),\n",
       " ('exemplar', 0.7324710488319397),\n",
       " ('mangelhaft', 0.7293695211410522),\n",
       " ('endgratet', 0.7263003587722778)]"
      ]
     },
     "execution_count": 119,
     "metadata": {},
     "output_type": "execute_result"
    }
   ],
   "source": [
    "w2v_model.most_similar(\"schlecht\")"
   ]
  },
  {
   "cell_type": "code",
   "execution_count": 125,
   "metadata": {},
   "outputs": [
    {
     "data": {
      "text/plain": [
       "[('ausgewog', 0.8559030890464783),\n",
       " ('satt', 0.8541179895401001),\n",
       " ('laut', 0.8381987810134888),\n",
       " ('rund', 0.8363834619522095),\n",
       " ('brilliant', 0.83511883020401),\n",
       " ('weich', 0.8306925296783447),\n",
       " ('kraftig', 0.8286424875259399),\n",
       " ('ausgewogen', 0.8247693181037903),\n",
       " ('sustainreich', 0.8193986415863037),\n",
       " ('lautstark', 0.8191487789154053)]"
      ]
     },
     "execution_count": 125,
     "metadata": {},
     "output_type": "execute_result"
    }
   ],
   "source": [
    "vec = w2v_model[\"ton\"] + w2v_model[\"gut\"]\n",
    "w2v_model.wv.similar_by_vector(vec)"
   ]
  },
  {
   "cell_type": "code",
   "execution_count": 124,
   "metadata": {},
   "outputs": [
    {
     "data": {
      "text/plain": [
       "[('bass', 0.8291234970092773),\n",
       " ('instrument', 0.7970903515815735),\n",
       " ('westerngitarr', 0.7687815427780151),\n",
       " ('gitarre', 0.7559460997581482),\n",
       " ('klampf', 0.7495677471160889),\n",
       " ('banjo', 0.7186449766159058),\n",
       " ('mandolin', 0.7010602355003357),\n",
       " ('not_buhn', 0.6797578930854797),\n",
       " ('konkuri', 0.6532789468765259),\n",
       " ('erschien', 0.6493405103683472)]"
      ]
     },
     "execution_count": 124,
     "metadata": {},
     "output_type": "execute_result"
    }
   ],
   "source": [
    "w2v_model.most_similar(\"gitarr\")"
   ]
  },
  {
   "cell_type": "code",
   "execution_count": null,
   "metadata": {},
   "outputs": [],
   "source": []
  }
 ],
 "metadata": {
  "kernelspec": {
   "display_name": "Python 3",
   "language": "python",
   "name": "python3"
  },
  "language_info": {
   "codemirror_mode": {
    "name": "ipython",
    "version": 3
   },
   "file_extension": ".py",
   "mimetype": "text/x-python",
   "name": "python",
   "nbconvert_exporter": "python",
   "pygments_lexer": "ipython3",
   "version": "3.6.6"
  }
 },
 "nbformat": 4,
 "nbformat_minor": 2
}
