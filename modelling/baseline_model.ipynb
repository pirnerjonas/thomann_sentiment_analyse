{
 "cells": [
  {
   "cell_type": "code",
   "execution_count": 12,
   "metadata": {},
   "outputs": [],
   "source": [
    "import pickle\n",
    "#from create_plots import dist_word\n",
    "#from create_plots import generate_POS_wordcloud\n",
    "#from create_plots import bigram_wordcould\n",
    "import nltk\n",
    "import create_plots\n",
    "import re\n",
    "from wordcloud import WordCloud\n",
    "from itertools import chain\n",
    "import numpy as np\n",
    "import random\n",
    "import matplotlib.pyplot as plt\n",
    "import xgboost as xgb\n",
    "from sklearn.metrics import make_scorer\n",
    "from numpy.random import seed\n",
    "from sklearn.model_selection import train_test_split, StratifiedShuffleSplit\n",
    "from sklearn.metrics import mean_squared_error, mean_absolute_error\n",
    "import pandas as pd"
   ]
  },
  {
   "cell_type": "code",
   "execution_count": 13,
   "metadata": {},
   "outputs": [],
   "source": [
    "# set seed\n",
    "seed(42)"
   ]
  },
  {
   "cell_type": "code",
   "execution_count": 14,
   "metadata": {},
   "outputs": [],
   "source": [
    "# open dataset\n",
    "with open('enriched_thomann_data.pickle', 'rb') as f:\n",
    "        thomann_data = pickle.load(f)"
   ]
  },
  {
   "cell_type": "code",
   "execution_count": 15,
   "metadata": {},
   "outputs": [],
   "source": [
    "# custom metric\n",
    "def custom_mse_metric(y_true, y_pred):\n",
    "    mse_class = 0\n",
    "    num_classes = len(np.unique(y_true))\n",
    "    stacked = np.vstack((y_true, y_pred))\n",
    "    for i in np.unique(stacked[0]):     \n",
    "        y_true_temp = stacked[0][np.where(stacked[0]==i)]\n",
    "        y_pred_temp = stacked[1][np.where(stacked[0]==i)]\n",
    "        mse = np.mean(np.square(y_pred_temp - y_true_temp))\n",
    "        mse_class += mse\n",
    "    return mse_class/num_classes\n",
    "\n",
    "custom_mse_score = make_scorer(custom_mse_metric, greater_is_better=False)"
   ]
  },
  {
   "cell_type": "code",
   "execution_count": 16,
   "metadata": {},
   "outputs": [],
   "source": [
    "# basic feature engineering\n",
    "thomann_data[\"total_word_count\"] = [len(review.split()) for review in thomann_data[\"review\"]]\n",
    "thomann_data[\"count_nouns\"] =[len([word for (word, tag) in thomann_data[\"taggedWords_neg\"][i] if re.match(\"NN*\", tag)]) for i, _ in enumerate(thomann_data[\"taggedWords_neg\"])]\n",
    "thomann_data[\"count_verbs\"] =[len([word for (word, tag) in thomann_data[\"taggedWords_neg\"][i] if re.match(\"VB*\", tag)]) for i, _ in enumerate(thomann_data[\"taggedWords_neg\"])]\n",
    "thomann_data[\"count_conjunction\"] =[len([word for (word, tag) in thomann_data[\"taggedWords_neg\"][i] if re.match(\"CC*\", tag)]) for i, _ in enumerate(thomann_data[\"taggedWords_neg\"])]\n",
    "thomann_data[\"count_adverb\"] =[len([word for (word, tag) in thomann_data[\"taggedWords_neg\"][i] if re.match(\"RB*\", tag)]) for i, _ in enumerate(thomann_data[\"taggedWords_neg\"])]\n",
    "thomann_data[\"count_adjectives\"] =[len([word for (word, tag) in thomann_data[\"taggedWords_neg\"][i] if re.match(\"JJ*\", tag)]) for i, _ in enumerate(thomann_data[\"taggedWords_neg\"])]\n",
    "\n"
   ]
  },
  {
   "cell_type": "code",
   "execution_count": 17,
   "metadata": {},
   "outputs": [],
   "source": [
    "# train- testsplit\n",
    "y = thomann_data[\"stars_gesamt\"]/20\n",
    "X = thomann_data.loc[:, ~ thomann_data.columns.isin([x for x in thomann_data.columns if re.match(\"stars\", x)])]\n",
    "num_classes = len(np.unique(y))\n",
    "\n",
    "X_train, X_test, y_train, y_test = train_test_split(X, y, test_size=0.20, stratify=y, random_state=42)\n",
    "del X, y"
   ]
  },
  {
   "cell_type": "code",
   "execution_count": 18,
   "metadata": {},
   "outputs": [],
   "source": [
    "\n",
    "# features auf traditionelle Feature anpassen\n",
    "\n",
    "dmatrix_train = xgb.DMatrix(data = X_train[[\"count_nouns\",\"count_verbs\",\"count_conjunction\",\"count_adverb\",\"count_adjectives\",\"total_word_count\"]], label = y_train)\n",
    "dmatrix_test = xgb.DMatrix(data = X_test[[\"count_nouns\",\"count_verbs\",\"count_conjunction\",\"count_adverb\",\"count_adjectives\",\"total_word_count\"]])\n",
    "\n",
    "parameter = {\n",
    "    \"eta\": 0.1, \n",
    "    \"seed\":0, \n",
    "    \"objective\": \"reg:linear\",\n",
    "    \"silent\": True\n",
    "}\n",
    "\n",
    "xgb_model = xgb.train(params=parameter,\n",
    "                      dtrain=dmatrix_train,\n",
    "                      num_boost_round=100)\n",
    "\n",
    "y_pred_xgb = xgb_model.predict(dmatrix_test)\n",
    "#plot_importance(xgb_model)\n",
    "del dmatrix_train, dmatrix_test"
   ]
  },
  {
   "cell_type": "code",
   "execution_count": 19,
   "metadata": {},
   "outputs": [],
   "source": [
    "def classWiseMetric(y_true, y_pred):\n",
    "    df = pd.DataFrame(np.column_stack([y_pred, y_true]), columns=[\"Predicted\", \"Truth\"])\n",
    "    class_mse = 0\n",
    "    class_mae = 0\n",
    "    print(\"MSE for Classes:\")\n",
    "    for i in df.Truth.unique():\n",
    "        temp = df[df[\"Truth\"]==i]\n",
    "        mse = mean_squared_error(temp.Truth, temp.Predicted)\n",
    "        mae = mean_absolute_error(temp.Truth, temp.Predicted)\n",
    "        print(\"Class {}: MSE:{} MAE:{}\".format(i, mse, mae))\n",
    "        class_mse += mse\n",
    "        class_mae += mae\n",
    "    print()\n",
    "    print(\"AVG MSE over Classes {}\".format(class_mse/len(df.Truth.unique())))\n",
    "    print(\"AVG MAE over Classes {}\".format(class_mae/len(df.Truth.unique())))\n",
    "    print()\n",
    "    print(\"Global: MAE: {} MSE {}\".format(mean_absolute_error(y_true, y_pred), mean_squared_error(y_true, y_pred)))"
   ]
  },
  {
   "cell_type": "code",
   "execution_count": 20,
   "metadata": {},
   "outputs": [
    {
     "name": "stdout",
     "output_type": "stream",
     "text": [
      "MSE for Classes:\n",
      "Class 4.0: MSE:0.19065221053228162 MAE:0.43663739021330006\n",
      "Class 2.0: MSE:5.9372017713854826 MAE:2.4366373902132996\n",
      "Class 5.0: MSE:0.3173774301056815 MAE:0.5633626097867\n",
      "Class 3.0: MSE:2.0639269909588824 MAE:1.4366373902133\n",
      "Class 1.0: MSE:11.810476551812082 MAE:3.4366373902132996\n",
      "\n",
      "AVG MSE over Classes 4.0639269909588815\n",
      "AVG MAE over Classes 1.6619824341279799\n",
      "\n",
      "Global: MAE: 0.6709366984289776 MSE 0.6835984729835773\n"
     ]
    }
   ],
   "source": [
    "# baseline, predict mean of y_train\n",
    "classWiseMetric(y_test, np.repeat(y_train.mean(),y_test.size))"
   ]
  },
  {
   "cell_type": "code",
   "execution_count": 21,
   "metadata": {},
   "outputs": [
    {
     "name": "stdout",
     "output_type": "stream",
     "text": [
      "MSE for Classes:\n",
      "Class 4.0: MSE:1.0 MAE:1.0\n",
      "Class 2.0: MSE:9.0 MAE:3.0\n",
      "Class 5.0: MSE:0.0 MAE:0.0\n",
      "Class 3.0: MSE:4.0 MAE:2.0\n",
      "Class 1.0: MSE:16.0 MAE:4.0\n",
      "\n",
      "AVG MSE over Classes 6.0\n",
      "AVG MAE over Classes 2.0\n",
      "\n",
      "Global: MAE: 0.5639810426540285 MSE 1.001672706997491\n"
     ]
    }
   ],
   "source": [
    "# baseline, predict most common class\n",
    "classWiseMetric(y_test, np.repeat(5,y_test.size))"
   ]
  },
  {
   "cell_type": "code",
   "execution_count": 22,
   "metadata": {},
   "outputs": [
    {
     "name": "stdout",
     "output_type": "stream",
     "text": [
      "MSE for Classes:\n",
      "Class 4.0: MSE:0.2050125746908523 MAE:0.41761376595858374\n",
      "Class 2.0: MSE:4.936202196784972 MAE:2.1775632172488093\n",
      "Class 5.0: MSE:0.3133088534555962 MAE:0.5255092131052491\n",
      "Class 3.0: MSE:1.8068114673592084 MAE:1.3149523457190149\n",
      "Class 1.0: MSE:10.403542652755759 MAE:3.148956310181391\n",
      "\n",
      "AVG MSE over Classes 3.532975549009278\n",
      "AVG MAE over Classes 1.5169189704426096\n",
      "\n",
      "Global: MAE: 0.6239959333545823 MSE 0.6250284386381199\n"
     ]
    }
   ],
   "source": [
    "# baseline, predict most common class\n",
    "classWiseMetric(y_test, y_pred_xgb)"
   ]
  },
  {
   "cell_type": "code",
   "execution_count": null,
   "metadata": {},
   "outputs": [],
   "source": []
  }
 ],
 "metadata": {
  "kernelspec": {
   "display_name": "Python 3",
   "language": "python",
   "name": "python3"
  },
  "language_info": {
   "codemirror_mode": {
    "name": "ipython",
    "version": 3
   },
   "file_extension": ".py",
   "mimetype": "text/x-python",
   "name": "python",
   "nbconvert_exporter": "python",
   "pygments_lexer": "ipython3",
   "version": "3.7.0"
  }
 },
 "nbformat": 4,
 "nbformat_minor": 2
}
