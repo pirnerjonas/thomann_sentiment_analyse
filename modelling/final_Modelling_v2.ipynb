{
 "cells": [
  {
   "cell_type": "code",
   "execution_count": 1,
   "metadata": {},
   "outputs": [],
   "source": [
    "# sklearn 0.20.1 ist voraussetzung ansonsten pickle error (cannot unserialize)"
   ]
  },
  {
   "cell_type": "code",
   "execution_count": 41,
   "metadata": {
    "scrolled": true
   },
   "outputs": [
    {
     "name": "stdout",
     "output_type": "stream",
     "text": [
      "Uninstalling scikit-learn-0.20.1:\n",
      "  Successfully uninstalled scikit-learn-0.20.1\n"
     ]
    }
   ],
   "source": [
    "!pip uninstall scikit-learn --yes"
   ]
  },
  {
   "cell_type": "code",
   "execution_count": 42,
   "metadata": {},
   "outputs": [
    {
     "name": "stdout",
     "output_type": "stream",
     "text": [
      "Collecting scikit-learn==0.20.1\n",
      "  Using cached https://files.pythonhosted.org/packages/10/26/d04320c3edf2d59b1fcd0720b46753d4d603a76e68d8ad10a9b92ab06db2/scikit_learn-0.20.1-cp36-cp36m-manylinux1_x86_64.whl\n",
      "Requirement already satisfied: numpy>=1.8.2 in /opt/conda/lib/python3.6/site-packages (from scikit-learn==0.20.1) (1.13.3)\n",
      "Requirement already satisfied: scipy>=0.13.3 in /opt/conda/lib/python3.6/site-packages (from scikit-learn==0.20.1) (1.1.0)\n",
      "Installing collected packages: scikit-learn\n",
      "Successfully installed scikit-learn-0.20.1\n"
     ]
    }
   ],
   "source": [
    "!pip install scikit-learn==0.20.1"
   ]
  },
  {
   "cell_type": "code",
   "execution_count": 43,
   "metadata": {},
   "outputs": [
    {
     "name": "stdout",
     "output_type": "stream",
     "text": [
      "Requirement already satisfied: textblob_de in /opt/conda/lib/python3.6/site-packages (0.4.3)\r\n",
      "Requirement already satisfied: textblob>=0.9.0 in /opt/conda/lib/python3.6/site-packages (from textblob_de) (0.15.3)\r\n",
      "Requirement already satisfied: nltk>=3.1 in /opt/conda/lib/python3.6/site-packages (from textblob>=0.9.0->textblob_de) (3.4.1)\r\n",
      "Requirement already satisfied: six in /opt/conda/lib/python3.6/site-packages (from nltk>=3.1->textblob>=0.9.0->textblob_de) (1.11.0)\r\n"
     ]
    }
   ],
   "source": [
    "!pip install textblob_de"
   ]
  },
  {
   "cell_type": "code",
   "execution_count": 44,
   "metadata": {},
   "outputs": [
    {
     "name": "stdout",
     "output_type": "stream",
     "text": [
      "Requirement already satisfied: imblearn in /opt/conda/lib/python3.6/site-packages (0.0)\n",
      "Requirement already satisfied: imbalanced-learn in /opt/conda/lib/python3.6/site-packages (from imblearn) (0.4.3)\n",
      "Requirement already satisfied: scikit-learn>=0.20 in /opt/conda/lib/python3.6/site-packages (from imbalanced-learn->imblearn) (0.20.1)\n",
      "Requirement already satisfied: scipy>=0.13.3 in /opt/conda/lib/python3.6/site-packages (from imbalanced-learn->imblearn) (1.1.0)\n",
      "Requirement already satisfied: numpy>=1.8.2 in /opt/conda/lib/python3.6/site-packages (from imbalanced-learn->imblearn) (1.13.3)\n"
     ]
    }
   ],
   "source": [
    "!pip install imblearn"
   ]
  },
  {
   "cell_type": "code",
   "execution_count": 45,
   "metadata": {},
   "outputs": [],
   "source": [
    "import pickle\n",
    "from sklearn.model_selection import train_test_split, StratifiedShuffleSplit\n",
    "from sklearn.feature_extraction.text import CountVectorizer\n",
    "from sklearn.feature_extraction.text import TfidfTransformer\n",
    "from imblearn.pipeline import Pipeline\n",
    "from imblearn.over_sampling import ADASYN, SMOTE, RandomOverSampler\n",
    "from imblearn.under_sampling import RandomUnderSampler\n",
    "from sklearn.model_selection import GridSearchCV\n",
    "import pandas as pd\n",
    "import numpy as np\n",
    "import re\n",
    "from sklearn.linear_model import Ridge, LinearRegression\n",
    "from sklearn.ensemble import RandomForestRegressor\n",
    "from sklearn.metrics import make_scorer\n",
    "from sklearn.metrics import mean_squared_error, mean_absolute_error\n",
    "import lightgbm as lgb\n",
    "# ignore future warnings\n",
    "import warnings\n",
    "warnings.simplefilter(action='ignore', category=FutureWarning)\n",
    "warnings.simplefilter(action='ignore', category=UserWarning)\n",
    "import seaborn as sns\n",
    "import matplotlib.pyplot as plt"
   ]
  },
  {
   "cell_type": "code",
   "execution_count": 46,
   "metadata": {},
   "outputs": [],
   "source": [
    "with open('enriched_thomann_data.pickle', 'rb') as f:\n",
    "        thomann_data = pickle.load(f)"
   ]
  },
  {
   "cell_type": "code",
   "execution_count": 47,
   "metadata": {},
   "outputs": [],
   "source": [
    "def display_metric(y_true, y_pred):\n",
    "    df = pd.DataFrame(np.column_stack([y_pred, y_true]), columns=[\"Predicted\", \"Truth\"])\n",
    "    class_mse = 0\n",
    "    class_mae = 0\n",
    "    print(\"MSE for Classes:\")\n",
    "    for i in df.Truth.unique():\n",
    "        temp = df[df[\"Truth\"]==i]\n",
    "        mse = mean_squared_error(temp.Truth, temp.Predicted)\n",
    "        mae = mean_absolute_error(temp.Truth, temp.Predicted)\n",
    "        print(\"Class {}: MSE:{} MAE:{}\".format(i, mse, mae))\n",
    "        class_mse += mse\n",
    "        class_mae += mae\n",
    "    print()\n",
    "    print(\"AVG MSE over Classes {}\".format(class_mse/len(df.Truth.unique())))\n",
    "    print(\"AVG MAE over Classes {}\".format(class_mae/len(df.Truth.unique())))\n",
    "    print()\n",
    "    print(\"Global: MAE: {} MSE {}\".format(mean_absolute_error(y_true, y_pred), mean_squared_error(y_true, y_pred)))"
   ]
  },
  {
   "cell_type": "code",
   "execution_count": 48,
   "metadata": {},
   "outputs": [],
   "source": [
    "# erstellen der eigenen Metrik\n",
    "def custom_mse_metric(y_true, y_pred):\n",
    "    mse_class = 0\n",
    "    num_classes = len(np.unique(y_true))\n",
    "    stacked = np.vstack((y_true, y_pred))\n",
    "    for i in np.unique(stacked[0]):     \n",
    "        y_true_temp = stacked[0][np.where(stacked[0]==i)]\n",
    "        y_pred_temp = stacked[1][np.where(stacked[0]==i)]\n",
    "        mse = np.mean(np.square(y_pred_temp - y_true_temp))\n",
    "        mse_class += mse\n",
    "    return mse_class/num_classes\n",
    "\n",
    "custom_mse_score = make_scorer(custom_mse_metric, greater_is_better=False)"
   ]
  },
  {
   "cell_type": "code",
   "execution_count": 122,
   "metadata": {},
   "outputs": [],
   "source": [
    "# funktion dient dem plotten der Modelergebnisse\n",
    "def plot_results(y_test, pred_list, pred_without_neg_list, name_list):\n",
    "    \n",
    "    df = pd.DataFrame()\n",
    "    scores = []\n",
    "    scores_without_neg = []\n",
    "    \n",
    "    temp = pd.DataFrame()\n",
    "    for i, liste in enumerate(pred_list):\n",
    "        temp[\"Truth\"] = y_test\n",
    "        temp[\"Verfahren\"] = name_list[i]\n",
    "        temp[\"Predicted\"] = liste\n",
    "        scores.append(custom_mse_metric(y_test, liste))\n",
    "        scores_without_neg.append(custom_mse_metric(y_test, pred_without_neg_list[i]))\n",
    "        df = pd.concat([df, temp], ignore_index=True) \n",
    "        \n",
    "    # plot\n",
    "    sns.set_style(\"whitegrid\")\n",
    "    fig, ax = plt.subplots(figsize=(20, 10))\n",
    "    sns.boxplot(x=\"Truth\", y=\"Predicted\", hue=\"Verfahren\",data=df,ax=ax)\n",
    "    handles, labels = ax.get_legend_handles_labels()\n",
    "    for i, name in enumerate(name_list):\n",
    "        if name_list[i]==\"W2V_NN\":\n",
    "            name_list[i] = \"{} ({} | n.A.)\".format(name, np.round(scores[i], decimals=3))\n",
    "        else:\n",
    "            name_list[i] = \"{} ({} | {})\".format(name, np.round(scores[i], decimals=3), \n",
    "                                                         np.round(scores_without_neg[i], decimals=3))\n",
    "        \n",
    "    legend = ax.legend(handles, name_list, title=\"Test Error mit und ohne Negationhandling\",prop={'size': 12},loc=2)\n",
    "    legend.get_title().set_fontsize('12')\n",
    "    ax.set_title(\"Vorhersagen der Modelle auf den Testdaten\", fontsize=18)"
   ]
  },
  {
   "cell_type": "markdown",
   "metadata": {},
   "source": [
    "### Train- Testsplit\n",
    "\n",
    "Um die einzelnen Bewertungsklassen gleichzeitig zu verteilen wird der Parameter stratify=y gesetzt. Desweiteren werden X_train und X_test auch noch auf Basis der nicht von dem Negationshandling betroffenen Spalte review_pp_only gespeichert. Dadurch kann später geprüft werden ob das Negationshandling wirkungsvoll war."
   ]
  },
  {
   "cell_type": "code",
   "execution_count": 50,
   "metadata": {},
   "outputs": [],
   "source": [
    "# train- testsplit\n",
    "y = thomann_data[\"stars_gesamt\"]/20\n",
    "y = y.astype(\"int64\")\n",
    "X = thomann_data[[\"review\",\"review_pp_only\"]]\n",
    "num_classes = len(np.unique(y))\n",
    "\n",
    "X_train, X_test, y_train, y_test = train_test_split(X, y, test_size=0.20, stratify=y, random_state=42)\n",
    "# erstelle X train- test auch für Daten ohne Negationshandling um Auswirkung sichtbar zu machen\n",
    "X_train_pp_only = X_train[\"review_pp_only\"]\n",
    "X_test_pp_only = X_test[\"review_pp_only\"]\n",
    "# normale X train- test verwenden Reviews mit Preprocessing und Negationshandling\n",
    "X_train = X_train[\"review\"]\n",
    "X_test = X_test[\"review\"]\n",
    "del X, y"
   ]
  },
  {
   "cell_type": "markdown",
   "metadata": {},
   "source": [
    "## Dokument-Term-Matrix Ansatz\n",
    "\n",
    "die nachfolgenden Codeblöcke erstellen Modelle die Dokument-Term-Matrizen zur Featuregenerierung nutzen. Dafür werden verschiedene Pipelines entwickelt die den selben Grundansatz verfolgen. Der sequentielle Ablauf ist:"
   ]
  },
  {
   "cell_type": "markdown",
   "metadata": {},
   "source": [
    "> Featureerstellung -> Samplingverfahren -> Model"
   ]
  },
  {
   "cell_type": "markdown",
   "metadata": {},
   "source": [
    "Die Featureerstellung erfolgt dabei immer durch den CountVectorizer und TFIDF Transformer. Für jedes Model entsteht eine gesonderte Pipeline wie für eine standardmäßige Pipeline vorgesehen. Zudem ist jedem Model genau eine Samplingmethode zugewiesen.  "
   ]
  },
  {
   "cell_type": "markdown",
   "metadata": {},
   "source": [
    "### Definiere ParameterGrid"
   ]
  },
  {
   "cell_type": "markdown",
   "metadata": {},
   "source": [
    "Hier werden die zu tunenden Parameter festgelegt. Die vergebene Bezeichnung vor den doppelten Unterstrich bezeichnet den Namen des Pipelineschritts. So können die Parameter den richtigen Teilschritten der Pipeline zugeordnet werden. Es entstehen außerdem verschiedene Parameter Dictionarys die dann später zusammengefügt werden. So muss man die Parameter welche in jeder Pipeline vorkommen nicht immer extra definieren. "
   ]
  },
  {
   "cell_type": "code",
   "execution_count": 51,
   "metadata": {},
   "outputs": [],
   "source": [
    "# definiere ParameterGrid \n",
    "param_basic = {\n",
    "    'vect__max_df': (1.0, 0.8),\n",
    "    'vect__max_features': (None, 10000),\n",
    "    'vect__ngram_range': ((1,1),(1,2),(2,2)),\n",
    "    'vect__binary': (True, False),\n",
    "    'tfidf__use_idf': (True, False),\n",
    "    \n",
    "}\n",
    "\n",
    "param_adasyn = {\n",
    "    'sampl__n_neighbors': (1, 3, 5),\n",
    "    'sampl__sampling_strategy': ('auto','minority')\n",
    "}\n",
    "\n",
    "param_smote = {\n",
    "    'sampl__k_neighbors': (1, 3, 5, 7),\n",
    "    'sampl__sampling_strategy': ('auto','minority')\n",
    "}\n",
    "\n",
    "param_rus = {\n",
    "    'sampl__sampling_strategy': ('auto','majority')\n",
    "}\n",
    "\n",
    "param_ros = {\n",
    "    'sampl__sampling_strategy': ('auto','minority')\n",
    "}\n",
    "\n",
    "param_lgb = {\n",
    "    'reg__max_depth' : (3, 6, 12),\n",
    "    'reg__learning_rate' : (0.1, 0.01),\n",
    "    'reg__n_estimators' : (100, 300)\n",
    "}\n"
   ]
  },
  {
   "cell_type": "markdown",
   "metadata": {},
   "source": [
    "### Definiere Pipelines\n",
    "\n",
    "Nun werden die eigentlichen Pipelines konstruiert. Der Ablauf dieser wurde bereits genannt. Parameter die hier angegeben werden sind fix und werden nicht getuned. "
   ]
  },
  {
   "cell_type": "code",
   "execution_count": 52,
   "metadata": {},
   "outputs": [],
   "source": [
    "pl_ROS_LGB = Pipeline([('vect', CountVectorizer()), \n",
    "                       ('tfidf', TfidfTransformer()), \n",
    "                       ('sampl', RandomOverSampler(random_state=42)), \n",
    "                       ('reg', lgb.LGBMRegressor(random_state=42, n_jobs=-1))])"
   ]
  },
  {
   "cell_type": "code",
   "execution_count": 53,
   "metadata": {},
   "outputs": [],
   "source": [
    "pl_ADA_RF = Pipeline([ ('vect', CountVectorizer()), \n",
    "                       ('tfidf', TfidfTransformer()), \n",
    "                       ('sampl', ADASYN(random_state=42)), \n",
    "                       ('reg', RandomForestRegressor(random_state=42,n_jobs=-1))])"
   ]
  },
  {
   "cell_type": "code",
   "execution_count": 54,
   "metadata": {},
   "outputs": [],
   "source": [
    "pl_SMOTE_Ridge = Pipeline([('vect', CountVectorizer()), \n",
    "                           ('tfidf', TfidfTransformer()), \n",
    "                           ('sampl', SMOTE(random_state=42)),\n",
    "                           ('reg', Ridge(random_state=42))])"
   ]
  },
  {
   "cell_type": "code",
   "execution_count": 55,
   "metadata": {},
   "outputs": [],
   "source": [
    "pl_RUS_LR = Pipeline([('vect', CountVectorizer()), \n",
    "                           ('tfidf', TfidfTransformer()),                        \n",
    "                           ('sampl', RandomUnderSampler(random_state=42)),                           \n",
    "                           ('reg', LinearRegression(n_jobs=-1))])"
   ]
  },
  {
   "cell_type": "markdown",
   "metadata": {},
   "source": [
    "### Definiere GridSearchCV\n",
    "\n",
    "Hier entsteht die Verknüpfung zwischen Pipeline und den zugehörigen Parametern. Dafür werden die einzelnen Parameter Dictionarys die für die Pipeline notwendig sind zusammengefügt. Außerdem wird hier auch die eigens erstellte Metrik als Scoring Objekt übergeben. Dadurch wählt GridSearchCV das beste Modell anhand der neuen Metrik. "
   ]
  },
  {
   "cell_type": "code",
   "execution_count": 56,
   "metadata": {},
   "outputs": [],
   "source": [
    "gs_ROS_LGB = GridSearchCV(pl_ROS_LGB, {**param_basic, **param_ros, **param_lgb}, scoring=custom_mse_score, cv=2, n_jobs=-1, verbose=1)"
   ]
  },
  {
   "cell_type": "code",
   "execution_count": 57,
   "metadata": {},
   "outputs": [],
   "source": [
    "gs_ADA_RF = GridSearchCV(pl_ADA_RF, {**param_basic, **param_adasyn}, scoring=custom_mse_score, cv=2, n_jobs=-1, verbose=1)"
   ]
  },
  {
   "cell_type": "code",
   "execution_count": 58,
   "metadata": {},
   "outputs": [],
   "source": [
    "gs_SMOTE_Ridge = GridSearchCV(pl_SMOTE_Ridge, {**param_basic, **param_smote}, scoring=custom_mse_score, cv=2, n_jobs=-1, verbose=1)"
   ]
  },
  {
   "cell_type": "code",
   "execution_count": 59,
   "metadata": {},
   "outputs": [],
   "source": [
    "gs_RUS_LR = GridSearchCV(pl_RUS_LR, {**param_basic, **param_rus}, scoring=custom_mse_score, cv=2, n_jobs=-1, verbose=1)"
   ]
  },
  {
   "cell_type": "markdown",
   "metadata": {},
   "source": [
    "### Fit, Predict, Pickle\n",
    "\n",
    "In den hier vorkommenden Teilschritten wird die GridSearch gefittet. Da das Training der Modelle viel Zeit beanspruchen kann werden diese nachher gepickelt und persisten gespeichert. "
   ]
  },
  {
   "cell_type": "markdown",
   "metadata": {},
   "source": [
    "#### RandomOverSamplerLightGBM"
   ]
  },
  {
   "cell_type": "code",
   "execution_count": 60,
   "metadata": {},
   "outputs": [
    {
     "name": "stdout",
     "output_type": "stream",
     "text": [
      "Fitting 2 folds for each of 1152 candidates, totalling 2304 fits\n"
     ]
    },
    {
     "name": "stderr",
     "output_type": "stream",
     "text": [
      "[Parallel(n_jobs=-1)]: Using backend LokyBackend with 16 concurrent workers.\n",
      "[Parallel(n_jobs=-1)]: Done  18 tasks      | elapsed:   26.2s\n",
      "[Parallel(n_jobs=-1)]: Done 168 tasks      | elapsed:  2.2min\n",
      "[Parallel(n_jobs=-1)]: Done 418 tasks      | elapsed:  7.2min\n",
      "[Parallel(n_jobs=-1)]: Done 768 tasks      | elapsed: 16.2min\n",
      "[Parallel(n_jobs=-1)]: Done 1218 tasks      | elapsed: 32.6min\n",
      "[Parallel(n_jobs=-1)]: Done 1768 tasks      | elapsed: 44.6min\n",
      "[Parallel(n_jobs=-1)]: Done 2304 out of 2304 | elapsed: 68.6min finished\n"
     ]
    },
    {
     "data": {
      "text/plain": [
       "GridSearchCV(cv=2, error_score='raise-deprecating',\n",
       "       estimator=Pipeline(memory=None,\n",
       "     steps=[('vect', CountVectorizer(analyzer='word', binary=False, decode_error='strict',\n",
       "        dtype=<class 'numpy.int64'>, encoding='utf-8', input='content',\n",
       "        lowercase=True, max_df=1.0, max_features=None, min_df=1,\n",
       "        ngram_range=(1, 1), preprocessor=None, stop_words=None,\n",
       "        strip....0, reg_lambda=0.0, silent=True,\n",
       "       subsample=1.0, subsample_for_bin=200000, subsample_freq=0))]),\n",
       "       fit_params=None, iid='warn', n_jobs=-1,\n",
       "       param_grid={'vect__max_df': (1.0, 0.8), 'vect__max_features': (None, 10000), 'vect__ngram_range': ((1, 1), (1, 2), (2, 2)), 'vect__binary': (True, False), 'tfidf__use_idf': (True, False), 'sampl__sampling_strategy': ('auto', 'minority'), 'reg__max_depth': (3, 6, 12), 'reg__learning_rate': (0.1, 0.01), 'reg__n_estimators': (100, 300)},\n",
       "       pre_dispatch='2*n_jobs', refit=True, return_train_score='warn',\n",
       "       scoring=make_scorer(custom_mse_metric, greater_is_better=False),\n",
       "       verbose=1)"
      ]
     },
     "execution_count": 60,
     "metadata": {},
     "output_type": "execute_result"
    }
   ],
   "source": [
    "gs_ROS_LGB.fit(X_train, y_train)"
   ]
  },
  {
   "cell_type": "code",
   "execution_count": 61,
   "metadata": {},
   "outputs": [],
   "source": [
    "y_pred_ROS_LGB = gs_ROS_LGB.predict(X_test)\n",
    "cv_results_ROS_LGB = pd.DataFrame(gs_ROS_LGB.cv_results_)\n",
    "cv_results_ROS_LGB.to_csv(\"Results/cv_results_ROS_LGB.csv\")"
   ]
  },
  {
   "cell_type": "code",
   "execution_count": 62,
   "metadata": {},
   "outputs": [],
   "source": [
    "with open('Models/best_estimator_ROS_LGB.pickle', 'wb') as f:\n",
    "        pickle.dump(gs_ROS_LGB.best_estimator_, f, protocol=2)"
   ]
  },
  {
   "cell_type": "markdown",
   "metadata": {},
   "source": [
    "#### ADASYN RandomForrest"
   ]
  },
  {
   "cell_type": "code",
   "execution_count": 63,
   "metadata": {
    "scrolled": true
   },
   "outputs": [
    {
     "name": "stdout",
     "output_type": "stream",
     "text": [
      "Fitting 2 folds for each of 288 candidates, totalling 576 fits\n"
     ]
    },
    {
     "name": "stderr",
     "output_type": "stream",
     "text": [
      "[Parallel(n_jobs=-1)]: Using backend LokyBackend with 16 concurrent workers.\n",
      "[Parallel(n_jobs=-1)]: Done  18 tasks      | elapsed:  7.2min\n",
      "[Parallel(n_jobs=-1)]: Done 168 tasks      | elapsed: 57.1min\n",
      "[Parallel(n_jobs=-1)]: Done 418 tasks      | elapsed: 147.4min\n",
      "[Parallel(n_jobs=-1)]: Done 576 out of 576 | elapsed: 199.7min finished\n"
     ]
    },
    {
     "data": {
      "text/plain": [
       "GridSearchCV(cv=2, error_score='raise-deprecating',\n",
       "       estimator=Pipeline(memory=None,\n",
       "     steps=[('vect', CountVectorizer(analyzer='word', binary=False, decode_error='strict',\n",
       "        dtype=<class 'numpy.int64'>, encoding='utf-8', input='content',\n",
       "        lowercase=True, max_df=1.0, max_features=None, min_df=1,\n",
       "        ngram_range=(1, 1), preprocessor=None, stop_words=None,\n",
       "        strip...ators='warn', n_jobs=-1,\n",
       "           oob_score=False, random_state=42, verbose=0, warm_start=False))]),\n",
       "       fit_params=None, iid='warn', n_jobs=-1,\n",
       "       param_grid={'vect__max_df': (1.0, 0.8), 'vect__max_features': (None, 10000), 'vect__ngram_range': ((1, 1), (1, 2), (2, 2)), 'vect__binary': (True, False), 'tfidf__use_idf': (True, False), 'sampl__n_neighbors': (1, 3, 5), 'sampl__sampling_strategy': ('auto', 'minority')},\n",
       "       pre_dispatch='2*n_jobs', refit=True, return_train_score='warn',\n",
       "       scoring=make_scorer(custom_mse_metric, greater_is_better=False),\n",
       "       verbose=1)"
      ]
     },
     "execution_count": 63,
     "metadata": {},
     "output_type": "execute_result"
    }
   ],
   "source": [
    "gs_ADA_RF.fit(X_train, y_train)"
   ]
  },
  {
   "cell_type": "code",
   "execution_count": 64,
   "metadata": {},
   "outputs": [],
   "source": [
    "y_pred_ADA_RF = gs_ADA_RF.predict(X_test)\n",
    "cv_results_ADA_RF = pd.DataFrame(gs_ADA_RF.cv_results_)\n",
    "cv_results_ADA_RF.to_csv(\"Results/cv_results_ADA_RF.csv\")"
   ]
  },
  {
   "cell_type": "code",
   "execution_count": 65,
   "metadata": {},
   "outputs": [],
   "source": [
    "with open('Models/best_estimator_ADA_RF.pickle', 'wb') as f:\n",
    "        pickle.dump(gs_ADA_RF.best_estimator_, f, protocol=2)"
   ]
  },
  {
   "cell_type": "markdown",
   "metadata": {},
   "source": [
    "#### SMOTE Ridge Regression"
   ]
  },
  {
   "cell_type": "code",
   "execution_count": 66,
   "metadata": {},
   "outputs": [
    {
     "name": "stdout",
     "output_type": "stream",
     "text": [
      "Fitting 2 folds for each of 384 candidates, totalling 768 fits\n"
     ]
    },
    {
     "name": "stderr",
     "output_type": "stream",
     "text": [
      "[Parallel(n_jobs=-1)]: Using backend LokyBackend with 16 concurrent workers.\n",
      "[Parallel(n_jobs=-1)]: Done  18 tasks      | elapsed:   51.3s\n",
      "[Parallel(n_jobs=-1)]: Done 168 tasks      | elapsed:  4.9min\n",
      "[Parallel(n_jobs=-1)]: Done 418 tasks      | elapsed: 11.7min\n",
      "[Parallel(n_jobs=-1)]: Done 768 out of 768 | elapsed: 21.0min finished\n"
     ]
    },
    {
     "data": {
      "text/plain": [
       "GridSearchCV(cv=2, error_score='raise-deprecating',\n",
       "       estimator=Pipeline(memory=None,\n",
       "     steps=[('vect', CountVectorizer(analyzer='word', binary=False, decode_error='strict',\n",
       "        dtype=<class 'numpy.int64'>, encoding='utf-8', input='content',\n",
       "        lowercase=True, max_df=1.0, max_features=None, min_df=1,\n",
       "        ngram_range=(1, 1), preprocessor=None, stop_words=None,\n",
       "        strip... fit_intercept=True, max_iter=None,\n",
       "   normalize=False, random_state=42, solver='auto', tol=0.001))]),\n",
       "       fit_params=None, iid='warn', n_jobs=-1,\n",
       "       param_grid={'vect__max_df': (1.0, 0.8), 'vect__max_features': (None, 10000), 'vect__ngram_range': ((1, 1), (1, 2), (2, 2)), 'vect__binary': (True, False), 'tfidf__use_idf': (True, False), 'sampl__k_neighbors': (1, 3, 5, 7), 'sampl__sampling_strategy': ('auto', 'minority')},\n",
       "       pre_dispatch='2*n_jobs', refit=True, return_train_score='warn',\n",
       "       scoring=make_scorer(custom_mse_metric, greater_is_better=False),\n",
       "       verbose=1)"
      ]
     },
     "execution_count": 66,
     "metadata": {},
     "output_type": "execute_result"
    }
   ],
   "source": [
    "gs_SMOTE_Ridge.fit(X_train, y_train)"
   ]
  },
  {
   "cell_type": "code",
   "execution_count": 67,
   "metadata": {},
   "outputs": [],
   "source": [
    "y_pred_SMOTE_Ridge = gs_SMOTE_Ridge.predict(X_test)"
   ]
  },
  {
   "cell_type": "code",
   "execution_count": 68,
   "metadata": {},
   "outputs": [],
   "source": [
    "cv_results_SMOTE_Ridge = pd.DataFrame(gs_SMOTE_Ridge.cv_results_)\n",
    "cv_results_SMOTE_Ridge.to_csv(\"Results/cv_results_SMOTE_Ridge.csv\")"
   ]
  },
  {
   "cell_type": "code",
   "execution_count": 69,
   "metadata": {},
   "outputs": [],
   "source": [
    "with open('Models/best_estimator_SMOTE_Ridge.pickle', 'wb') as f:\n",
    "        pickle.dump(gs_SMOTE_Ridge.best_estimator_, f, protocol=2)"
   ]
  },
  {
   "cell_type": "markdown",
   "metadata": {},
   "source": [
    "#### RandomUnderSampling Linear Regression"
   ]
  },
  {
   "cell_type": "code",
   "execution_count": 70,
   "metadata": {},
   "outputs": [
    {
     "name": "stdout",
     "output_type": "stream",
     "text": [
      "Fitting 2 folds for each of 96 candidates, totalling 192 fits\n"
     ]
    },
    {
     "name": "stderr",
     "output_type": "stream",
     "text": [
      "[Parallel(n_jobs=-1)]: Using backend LokyBackend with 16 concurrent workers.\n",
      "[Parallel(n_jobs=-1)]: Done  18 tasks      | elapsed:   12.1s\n",
      "[Parallel(n_jobs=-1)]: Done 192 out of 192 | elapsed:  2.5min finished\n"
     ]
    },
    {
     "data": {
      "text/plain": [
       "GridSearchCV(cv=2, error_score='raise-deprecating',\n",
       "       estimator=Pipeline(memory=None,\n",
       "     steps=[('vect', CountVectorizer(analyzer='word', binary=False, decode_error='strict',\n",
       "        dtype=<class 'numpy.int64'>, encoding='utf-8', input='content',\n",
       "        lowercase=True, max_df=1.0, max_features=None, min_df=1,\n",
       "        ngram_range=(1, 1), preprocessor=None, stop_words=None,\n",
       "        strip...gy='auto')), ('reg', LinearRegression(copy_X=True, fit_intercept=True, n_jobs=-1, normalize=False))]),\n",
       "       fit_params=None, iid='warn', n_jobs=-1,\n",
       "       param_grid={'vect__max_df': (1.0, 0.8), 'vect__max_features': (None, 10000), 'vect__ngram_range': ((1, 1), (1, 2), (2, 2)), 'vect__binary': (True, False), 'tfidf__use_idf': (True, False), 'sampl__sampling_strategy': ('auto', 'majority')},\n",
       "       pre_dispatch='2*n_jobs', refit=True, return_train_score='warn',\n",
       "       scoring=make_scorer(custom_mse_metric, greater_is_better=False),\n",
       "       verbose=1)"
      ]
     },
     "execution_count": 70,
     "metadata": {},
     "output_type": "execute_result"
    }
   ],
   "source": [
    "gs_RUS_LR.fit(X_train, y_train)"
   ]
  },
  {
   "cell_type": "code",
   "execution_count": 71,
   "metadata": {},
   "outputs": [],
   "source": [
    "y_pred_RUS_LR = gs_RUS_LR.predict(X_test)\n",
    "cv_results_RUS_LR = pd.DataFrame(gs_RUS_LR.cv_results_)\n",
    "cv_results_RUS_LR.to_csv(\"Results/cv_results_RUS_LR.csv\")"
   ]
  },
  {
   "cell_type": "code",
   "execution_count": 72,
   "metadata": {},
   "outputs": [],
   "source": [
    "with open('Models/best_estimator_RUS_LR.pickle', 'wb') as f:\n",
    "        pickle.dump(gs_RUS_LR.best_estimator_, f, protocol=2)"
   ]
  },
  {
   "cell_type": "markdown",
   "metadata": {},
   "source": [
    "### Auswirkungen Negationshandling\n",
    "\n",
    "Erneute Vorhersage aber anhand der Bewertungstexte die nicht mit Negationshandling verseht wurden. Dadurch können die Metriken nachher gegenübergestellt werden. "
   ]
  },
  {
   "cell_type": "code",
   "execution_count": 73,
   "metadata": {},
   "outputs": [
    {
     "name": "stdout",
     "output_type": "stream",
     "text": [
      "Fitting 2 folds for each of 1152 candidates, totalling 2304 fits\n"
     ]
    },
    {
     "name": "stderr",
     "output_type": "stream",
     "text": [
      "[Parallel(n_jobs=-1)]: Using backend LokyBackend with 16 concurrent workers.\n",
      "[Parallel(n_jobs=-1)]: Done  18 tasks      | elapsed:   23.6s\n",
      "[Parallel(n_jobs=-1)]: Done 168 tasks      | elapsed:  2.3min\n",
      "[Parallel(n_jobs=-1)]: Done 418 tasks      | elapsed:  7.5min\n",
      "[Parallel(n_jobs=-1)]: Done 768 tasks      | elapsed: 17.0min\n",
      "[Parallel(n_jobs=-1)]: Done 1218 tasks      | elapsed: 33.9min\n",
      "[Parallel(n_jobs=-1)]: Done 1768 tasks      | elapsed: 46.4min\n",
      "[Parallel(n_jobs=-1)]: Done 2304 out of 2304 | elapsed: 71.3min finished\n"
     ]
    },
    {
     "name": "stdout",
     "output_type": "stream",
     "text": [
      "Fitting 2 folds for each of 288 candidates, totalling 576 fits\n"
     ]
    },
    {
     "name": "stderr",
     "output_type": "stream",
     "text": [
      "[Parallel(n_jobs=-1)]: Using backend LokyBackend with 16 concurrent workers.\n",
      "[Parallel(n_jobs=-1)]: Done  18 tasks      | elapsed:  7.3min\n",
      "[Parallel(n_jobs=-1)]: Done 168 tasks      | elapsed: 60.7min\n",
      "[Parallel(n_jobs=-1)]: Done 418 tasks      | elapsed: 158.0min\n",
      "[Parallel(n_jobs=-1)]: Done 576 out of 576 | elapsed: 213.9min finished\n"
     ]
    },
    {
     "name": "stdout",
     "output_type": "stream",
     "text": [
      "Fitting 2 folds for each of 384 candidates, totalling 768 fits\n"
     ]
    },
    {
     "name": "stderr",
     "output_type": "stream",
     "text": [
      "[Parallel(n_jobs=-1)]: Using backend LokyBackend with 16 concurrent workers.\n",
      "[Parallel(n_jobs=-1)]: Done  18 tasks      | elapsed:   52.3s\n",
      "[Parallel(n_jobs=-1)]: Done 168 tasks      | elapsed:  5.1min\n",
      "[Parallel(n_jobs=-1)]: Done 418 tasks      | elapsed: 12.1min\n",
      "[Parallel(n_jobs=-1)]: Done 768 out of 768 | elapsed: 21.6min finished\n"
     ]
    },
    {
     "name": "stdout",
     "output_type": "stream",
     "text": [
      "Fitting 2 folds for each of 96 candidates, totalling 192 fits\n"
     ]
    },
    {
     "name": "stderr",
     "output_type": "stream",
     "text": [
      "[Parallel(n_jobs=-1)]: Using backend LokyBackend with 16 concurrent workers.\n",
      "[Parallel(n_jobs=-1)]: Done  18 tasks      | elapsed:   13.0s\n",
      "[Parallel(n_jobs=-1)]: Done 192 out of 192 | elapsed:  2.5min finished\n"
     ]
    }
   ],
   "source": [
    "# fitte an preprocessing only Daten\n",
    "gs_ROS_LGB.fit(X_train_pp_only, y_train)\n",
    "gs_ADA_RF.fit(X_train_pp_only, y_train)\n",
    "gs_SMOTE_Ridge.fit(X_train_pp_only, y_train)\n",
    "gs_RUS_LR.fit(X_train_pp_only, y_train)\n",
    "\n",
    "# sage Testdaten vorher\n",
    "y_pred_ROS_LGB_pp_only = gs_ROS_LGB.predict(X_test_pp_only)\n",
    "y_pred_ADA_RF_pp_only = gs_ADA_RF.predict(X_test_pp_only)\n",
    "y_pred_SMOTE_Ridge_pp_only = gs_SMOTE_Ridge.predict(X_test_pp_only)\n",
    "y_pred_RUS_LR_pp_only = gs_RUS_LR.predict(X_test_pp_only)\n"
   ]
  },
  {
   "cell_type": "code",
   "execution_count": 74,
   "metadata": {},
   "outputs": [],
   "source": [
    "# Lineare Modelle nach 5 cutten\n",
    "y_pred_ROS_LGB = [5 if x>=5 else x for x in y_pred_ROS_LGB]\n",
    "y_pred_SMOTE_Ridge = [5 if x>=5 else x for x in y_pred_SMOTE_Ridge]\n",
    "y_pred_RUS_LR = [5 if x>=5 else x for x in y_pred_RUS_LR ]\n",
    "\n",
    "y_pred_ROS_LGB_pp_only = [5 if x>=5 else x for x in y_pred_ROS_LGB_pp_only]\n",
    "y_pred_SMOTE_Ridge_pp_only = [5 if x>=5 else x for x in y_pred_SMOTE_Ridge_pp_only]\n",
    "y_pred_RUS_LR_pp_only = [5 if x>=5 else x for x in y_pred_RUS_LR_pp_only ]\n",
    "\n",
    "# und kleiner als 1 berücksichtigen\n",
    "y_pred_ROS_LGB = [1 if x<=1 else x for x in y_pred_ROS_LGB]\n",
    "y_pred_SMOTE_Ridge = [1 if x<=1 else x for x in y_pred_SMOTE_Ridge]\n",
    "y_pred_RUS_LR = [1 if x<=1 else x for x in y_pred_RUS_LR ]\n",
    "\n",
    "y_pred_ROS_LGB_pp_only = [1 if x<=1 else x for x in y_pred_ROS_LGB_pp_only]\n",
    "y_pred_SMOTE_Ridge_pp_only = [1 if x<=1 else x for x in y_pred_SMOTE_Ridge_pp_only]\n",
    "y_pred_RUS_LR_pp_only = [1 if x<=1 else x for x in y_pred_RUS_LR_pp_only ]"
   ]
  },
  {
   "cell_type": "markdown",
   "metadata": {},
   "source": [
    "## Word Embedding Ansatz"
   ]
  },
  {
   "cell_type": "code",
   "execution_count": 75,
   "metadata": {},
   "outputs": [
    {
     "name": "stderr",
     "output_type": "stream",
     "text": [
      "Using TensorFlow backend.\n"
     ]
    }
   ],
   "source": [
    "# eines dieser packages hat verhindert, dass xgb auf allen kernen läuft\n",
    "\n",
    "from keras.preprocessing.text import Tokenizer\n",
    "#from nltk.tokenize import sent_tokenize\n",
    "#from gensim.models import Word2Vec\n",
    "from itertools import chain\n",
    "from sklearn.base import BaseEstimator, TransformerMixin\n",
    "\n",
    "from keras.wrappers.scikit_learn import KerasRegressor\n",
    "from keras.models import Sequential\n",
    "from keras import layers\n",
    "from keras.preprocessing.sequence import pad_sequences\n",
    "import keras\n",
    "\n"
   ]
  },
  {
   "cell_type": "code",
   "execution_count": 76,
   "metadata": {},
   "outputs": [],
   "source": [
    "# vocab size ist lediglich abhängig von X_train (num_words spielen keine Rolle)\n",
    "tokenizer = Tokenizer()\n",
    "tokenizer.fit_on_texts(X_train)\n",
    "vocab_size = len(tokenizer.word_index) + 1 "
   ]
  },
  {
   "cell_type": "code",
   "execution_count": 77,
   "metadata": {},
   "outputs": [],
   "source": [
    "# open w2v model\n",
    "with open('w2v_model.pickle', 'rb') as f:\n",
    "        w2v = pickle.load(f)\n",
    "\n",
    "embedding_matrix = np.zeros((vocab_size, w2v.vector_size))\n",
    "liste = []\n",
    "for i, word in enumerate(tokenizer.word_index):\n",
    "    try:\n",
    "        idx = tokenizer.word_index[word]\n",
    "        embedding_matrix[idx] = w2v.wv[word]\n",
    "    # falls wort nicht in w2v model vorkommt\n",
    "    except KeyError:\n",
    "        liste.append(word)"
   ]
  },
  {
   "cell_type": "code",
   "execution_count": 78,
   "metadata": {},
   "outputs": [],
   "source": [
    "class TextTransformer(TransformerMixin, BaseEstimator):\n",
    "    '''Dieser Transformer ist dafür zuständig, Text in Keras Feature zu verwandeln'''\n",
    "\n",
    "    def __init__(self, num_words=None, maxlen=150):\n",
    "        self.num_words = num_words\n",
    "        self.maxlen =  maxlen\n",
    "\n",
    "    def fit(self, X, y=None):\n",
    "        return self\n",
    "\n",
    "    def transform(self, X):\n",
    "        tokenizer = Tokenizer(num_words=self.num_words)\n",
    "        tokenizer.fit_on_texts(X)\n",
    "        X_trans = tokenizer.texts_to_sequences(X)\n",
    "        X_trans = pad_sequences(X_trans, padding='post', maxlen=self.maxlen)\n",
    "        return X_trans"
   ]
  },
  {
   "cell_type": "code",
   "execution_count": 79,
   "metadata": {},
   "outputs": [],
   "source": [
    "def w2v_neural_net(maxlen, neurons, dropout, optimizer):\n",
    "        model = Sequential()\n",
    "        model.add(layers.Embedding(input_dim=vocab_size, \n",
    "                                   output_dim= w2v.vector_size,\n",
    "                                   weights=[embedding_matrix],\n",
    "                                   input_length=maxlen,\n",
    "                                   trainable=False))\n",
    "        model.add(layers.GlobalMaxPool1D())\n",
    "        model.add(layers.Dense(neurons, activation='relu'))\n",
    "        keras.layers.Dropout(dropout)\n",
    "        model.add(layers.Dense(neurons, activation='relu'))\n",
    "        keras.layers.Dropout(dropout)\n",
    "        model.add(layers.Dense(neurons, activation='relu'))\n",
    "        keras.layers.Dropout(dropout)\n",
    "        model.add(layers.Dense(neurons, activation='relu'))\n",
    "        keras.layers.Dropout(dropout)\n",
    "        model.add(layers.Dense(1, activation='linear'))\n",
    "        model.compile(optimizer=optimizer,\n",
    "                      loss='mse',\n",
    "                      metrics=['mse'])\n",
    "        return model"
   ]
  },
  {
   "cell_type": "code",
   "execution_count": 80,
   "metadata": {},
   "outputs": [],
   "source": [
    "regressor = KerasRegressor(build_fn = w2v_neural_net,\n",
    "                           verbose = 1,\n",
    "                           epochs = 80,\n",
    "                           batch_size = 100,\n",
    "                           validation_split = 0.2)\n",
    "\n",
    "pl_w2v_nn = Pipeline([('trans', TextTransformer()),\n",
    "                      ('sampl', SMOTE(random_state=42, k_neighbors=3)), \n",
    "                      ('reg', regressor)])"
   ]
  },
  {
   "cell_type": "code",
   "execution_count": 81,
   "metadata": {},
   "outputs": [],
   "source": [
    "param_w2v_nn = [{'trans__num_words' : [None, 7000], \n",
    "                 'trans__maxlen' : [300], \n",
    "                 'reg__maxlen' : [300], \n",
    "                 'reg__dropout' : [0.1, 0.2], \n",
    "                 'reg__neurons' : [10, 100],\n",
    "                 'reg__optimizer' : ['adam', 'Adadelta']},\n",
    "    \n",
    "                {'trans__num_words' : [None, 7000], \n",
    "                 'trans__maxlen' : [120], \n",
    "                 'reg__maxlen' : [120], \n",
    "                 'reg__dropout' : [0.1, 0.2], \n",
    "                 'reg__neurons' : [10, 100],\n",
    "                 'reg__optimizer' : ['adam', 'Adadelta']},\n",
    "                \n",
    "                {'trans__num_words' : [None, 7000],\n",
    "                 'trans__maxlen' : [60],\n",
    "                 'reg__maxlen' : [60],\n",
    "                 'reg__dropout' : [0.1, 0.2],\n",
    "                 'reg__neurons' : [10, 100],\n",
    "                 'reg__optimizer' : ['adam', 'Adadelta']}]    "
   ]
  },
  {
   "cell_type": "code",
   "execution_count": 82,
   "metadata": {},
   "outputs": [],
   "source": [
    "gs_w2v_nn = GridSearchCV(pl_w2v_nn, param_w2v_nn, cv=2, n_jobs=-1, scoring=custom_mse_score, verbose=1)"
   ]
  },
  {
   "cell_type": "code",
   "execution_count": 83,
   "metadata": {},
   "outputs": [
    {
     "name": "stdout",
     "output_type": "stream",
     "text": [
      "Fitting 2 folds for each of 48 candidates, totalling 96 fits\n"
     ]
    },
    {
     "name": "stderr",
     "output_type": "stream",
     "text": [
      "[Parallel(n_jobs=-1)]: Using backend LokyBackend with 16 concurrent workers.\n",
      "[Parallel(n_jobs=-1)]: Done  18 tasks      | elapsed: 43.8min\n",
      "[Parallel(n_jobs=-1)]: Done  96 out of  96 | elapsed: 78.9min finished\n"
     ]
    },
    {
     "name": "stdout",
     "output_type": "stream",
     "text": [
      "Train on 34140 samples, validate on 8535 samples\n",
      "Epoch 1/80\n",
      "34140/34140 [==============================] - 3s 102us/step - loss: 2.3556 - mean_squared_error: 2.3556 - val_loss: 0.8127 - val_mean_squared_error: 0.8127\n",
      "Epoch 2/80\n",
      "34140/34140 [==============================] - 2s 63us/step - loss: 1.9392 - mean_squared_error: 1.9392 - val_loss: 1.0899 - val_mean_squared_error: 1.0899\n",
      "Epoch 3/80\n",
      "34140/34140 [==============================] - 2s 62us/step - loss: 1.8711 - mean_squared_error: 1.8711 - val_loss: 1.1209 - val_mean_squared_error: 1.1209\n",
      "Epoch 4/80\n",
      "34140/34140 [==============================] - 2s 60us/step - loss: 1.8222 - mean_squared_error: 1.8222 - val_loss: 1.0258 - val_mean_squared_error: 1.0258\n",
      "Epoch 5/80\n",
      "34140/34140 [==============================] - 2s 58us/step - loss: 1.7919 - mean_squared_error: 1.7919 - val_loss: 1.3862 - val_mean_squared_error: 1.3862\n",
      "Epoch 6/80\n",
      "34140/34140 [==============================] - 2s 58us/step - loss: 1.7427 - mean_squared_error: 1.7427 - val_loss: 1.1905 - val_mean_squared_error: 1.1905\n",
      "Epoch 7/80\n",
      "34140/34140 [==============================] - 2s 57us/step - loss: 1.7245 - mean_squared_error: 1.7245 - val_loss: 1.2785 - val_mean_squared_error: 1.2785\n",
      "Epoch 8/80\n",
      "34140/34140 [==============================] - 2s 54us/step - loss: 1.6925 - mean_squared_error: 1.6925 - val_loss: 1.0255 - val_mean_squared_error: 1.0255\n",
      "Epoch 9/80\n",
      "34140/34140 [==============================] - 2s 52us/step - loss: 1.6936 - mean_squared_error: 1.6936 - val_loss: 1.1259 - val_mean_squared_error: 1.1259\n",
      "Epoch 10/80\n",
      "34140/34140 [==============================] - 2s 49us/step - loss: 1.6795 - mean_squared_error: 1.6795 - val_loss: 1.4470 - val_mean_squared_error: 1.4470\n",
      "Epoch 11/80\n",
      "34140/34140 [==============================] - 2s 51us/step - loss: 1.6714 - mean_squared_error: 1.6714 - val_loss: 0.9866 - val_mean_squared_error: 0.9866\n",
      "Epoch 12/80\n",
      "34140/34140 [==============================] - 2s 56us/step - loss: 1.6664 - mean_squared_error: 1.6664 - val_loss: 1.5462 - val_mean_squared_error: 1.5462\n",
      "Epoch 13/80\n",
      "34140/34140 [==============================] - 2s 58us/step - loss: 1.6509 - mean_squared_error: 1.6509 - val_loss: 1.3241 - val_mean_squared_error: 1.3241\n",
      "Epoch 14/80\n",
      "34140/34140 [==============================] - 2s 61us/step - loss: 1.6448 - mean_squared_error: 1.6448 - val_loss: 1.6590 - val_mean_squared_error: 1.6590\n",
      "Epoch 15/80\n",
      "34140/34140 [==============================] - 2s 59us/step - loss: 1.6488 - mean_squared_error: 1.6488 - val_loss: 1.0133 - val_mean_squared_error: 1.0133\n",
      "Epoch 16/80\n",
      "34140/34140 [==============================] - 2s 58us/step - loss: 1.6348 - mean_squared_error: 1.6348 - val_loss: 1.1196 - val_mean_squared_error: 1.1196\n",
      "Epoch 17/80\n",
      "34140/34140 [==============================] - 2s 62us/step - loss: 1.6443 - mean_squared_error: 1.6443 - val_loss: 1.3739 - val_mean_squared_error: 1.3739\n",
      "Epoch 18/80\n",
      "34140/34140 [==============================] - 2s 58us/step - loss: 1.6138 - mean_squared_error: 1.6138 - val_loss: 1.3391 - val_mean_squared_error: 1.3391\n",
      "Epoch 19/80\n",
      "34140/34140 [==============================] - 2s 60us/step - loss: 1.6195 - mean_squared_error: 1.6195 - val_loss: 1.0617 - val_mean_squared_error: 1.0617\n",
      "Epoch 20/80\n",
      "34140/34140 [==============================] - 2s 58us/step - loss: 1.6224 - mean_squared_error: 1.6224 - val_loss: 1.1451 - val_mean_squared_error: 1.1451\n",
      "Epoch 21/80\n",
      "34140/34140 [==============================] - 2s 58us/step - loss: 1.6072 - mean_squared_error: 1.6072 - val_loss: 1.1157 - val_mean_squared_error: 1.1157\n",
      "Epoch 22/80\n",
      "34140/34140 [==============================] - 2s 57us/step - loss: 1.5970 - mean_squared_error: 1.5970 - val_loss: 1.2372 - val_mean_squared_error: 1.2372\n",
      "Epoch 23/80\n",
      "34140/34140 [==============================] - 2s 59us/step - loss: 1.6116 - mean_squared_error: 1.6116 - val_loss: 1.3545 - val_mean_squared_error: 1.3545\n",
      "Epoch 24/80\n",
      "34140/34140 [==============================] - 2s 62us/step - loss: 1.6010 - mean_squared_error: 1.6010 - val_loss: 1.2531 - val_mean_squared_error: 1.2531\n",
      "Epoch 25/80\n",
      "34140/34140 [==============================] - 2s 61us/step - loss: 1.6071 - mean_squared_error: 1.6071 - val_loss: 1.3939 - val_mean_squared_error: 1.3939\n",
      "Epoch 26/80\n",
      "34140/34140 [==============================] - 2s 59us/step - loss: 1.5881 - mean_squared_error: 1.5881 - val_loss: 1.3857 - val_mean_squared_error: 1.3857\n",
      "Epoch 27/80\n",
      "34140/34140 [==============================] - 2s 58us/step - loss: 1.5960 - mean_squared_error: 1.5960 - val_loss: 1.4961 - val_mean_squared_error: 1.4961\n",
      "Epoch 28/80\n",
      "34140/34140 [==============================] - 2s 60us/step - loss: 1.5894 - mean_squared_error: 1.5894 - val_loss: 1.3622 - val_mean_squared_error: 1.3622\n",
      "Epoch 29/80\n",
      "34140/34140 [==============================] - 2s 60us/step - loss: 1.5848 - mean_squared_error: 1.5848 - val_loss: 1.5902 - val_mean_squared_error: 1.5902\n",
      "Epoch 30/80\n",
      "34140/34140 [==============================] - 2s 60us/step - loss: 1.5832 - mean_squared_error: 1.5832 - val_loss: 1.0083 - val_mean_squared_error: 1.0083\n",
      "Epoch 31/80\n",
      "34140/34140 [==============================] - 2s 58us/step - loss: 1.5743 - mean_squared_error: 1.5743 - val_loss: 1.5057 - val_mean_squared_error: 1.5057\n",
      "Epoch 32/80\n",
      "34140/34140 [==============================] - 2s 60us/step - loss: 1.5771 - mean_squared_error: 1.5771 - val_loss: 1.2608 - val_mean_squared_error: 1.2608\n",
      "Epoch 33/80\n",
      "34140/34140 [==============================] - 2s 60us/step - loss: 1.5710 - mean_squared_error: 1.5710 - val_loss: 1.2570 - val_mean_squared_error: 1.2570\n",
      "Epoch 34/80\n",
      "34140/34140 [==============================] - 2s 58us/step - loss: 1.5675 - mean_squared_error: 1.5675 - val_loss: 1.1990 - val_mean_squared_error: 1.1990\n",
      "Epoch 35/80\n",
      "34140/34140 [==============================] - 2s 60us/step - loss: 1.5664 - mean_squared_error: 1.5664 - val_loss: 1.1856 - val_mean_squared_error: 1.1856\n",
      "Epoch 36/80\n",
      "34140/34140 [==============================] - 2s 59us/step - loss: 1.5584 - mean_squared_error: 1.5584 - val_loss: 1.3364 - val_mean_squared_error: 1.3364\n",
      "Epoch 37/80\n",
      "34140/34140 [==============================] - 2s 67us/step - loss: 1.5548 - mean_squared_error: 1.5548 - val_loss: 1.3963 - val_mean_squared_error: 1.3963\n",
      "Epoch 38/80\n",
      "34140/34140 [==============================] - 2s 59us/step - loss: 1.5631 - mean_squared_error: 1.5631 - val_loss: 1.0742 - val_mean_squared_error: 1.0742\n",
      "Epoch 39/80\n",
      "34140/34140 [==============================] - 2s 59us/step - loss: 1.5527 - mean_squared_error: 1.5527 - val_loss: 1.1517 - val_mean_squared_error: 1.1517\n",
      "Epoch 40/80\n",
      "34140/34140 [==============================] - 2s 63us/step - loss: 1.5518 - mean_squared_error: 1.5518 - val_loss: 1.1329 - val_mean_squared_error: 1.1329\n",
      "Epoch 41/80\n",
      "34140/34140 [==============================] - 2s 65us/step - loss: 1.5507 - mean_squared_error: 1.5507 - val_loss: 1.0131 - val_mean_squared_error: 1.0131\n",
      "Epoch 42/80\n",
      "34140/34140 [==============================] - 2s 58us/step - loss: 1.5502 - mean_squared_error: 1.5502 - val_loss: 1.3987 - val_mean_squared_error: 1.3987\n",
      "Epoch 43/80\n",
      "34140/34140 [==============================] - 2s 60us/step - loss: 1.5444 - mean_squared_error: 1.5444 - val_loss: 1.3159 - val_mean_squared_error: 1.3159\n",
      "Epoch 44/80\n",
      "34140/34140 [==============================] - 2s 60us/step - loss: 1.5474 - mean_squared_error: 1.5474 - val_loss: 1.3472 - val_mean_squared_error: 1.3472\n",
      "Epoch 45/80\n",
      "34140/34140 [==============================] - 2s 57us/step - loss: 1.5480 - mean_squared_error: 1.5480 - val_loss: 1.2419 - val_mean_squared_error: 1.2419\n",
      "Epoch 46/80\n",
      "34140/34140 [==============================] - 2s 58us/step - loss: 1.5474 - mean_squared_error: 1.5474 - val_loss: 1.0267 - val_mean_squared_error: 1.0267\n",
      "Epoch 47/80\n",
      "34140/34140 [==============================] - 2s 60us/step - loss: 1.5421 - mean_squared_error: 1.5421 - val_loss: 1.2243 - val_mean_squared_error: 1.2243\n",
      "Epoch 48/80\n",
      "34140/34140 [==============================] - 2s 57us/step - loss: 1.5357 - mean_squared_error: 1.5357 - val_loss: 1.3384 - val_mean_squared_error: 1.3384\n",
      "Epoch 49/80\n"
     ]
    },
    {
     "name": "stdout",
     "output_type": "stream",
     "text": [
      "34140/34140 [==============================] - 2s 55us/step - loss: 1.5361 - mean_squared_error: 1.5361 - val_loss: 1.2918 - val_mean_squared_error: 1.2918\n",
      "Epoch 50/80\n",
      "34140/34140 [==============================] - 2s 64us/step - loss: 1.5349 - mean_squared_error: 1.5349 - val_loss: 1.2145 - val_mean_squared_error: 1.2145\n",
      "Epoch 51/80\n",
      "34140/34140 [==============================] - 2s 57us/step - loss: 1.5294 - mean_squared_error: 1.5294 - val_loss: 1.1582 - val_mean_squared_error: 1.1582\n",
      "Epoch 52/80\n",
      "34140/34140 [==============================] - 2s 59us/step - loss: 1.5281 - mean_squared_error: 1.5281 - val_loss: 1.2087 - val_mean_squared_error: 1.2087\n",
      "Epoch 53/80\n",
      "34140/34140 [==============================] - 2s 60us/step - loss: 1.5323 - mean_squared_error: 1.5323 - val_loss: 1.4682 - val_mean_squared_error: 1.4682\n",
      "Epoch 54/80\n",
      "34140/34140 [==============================] - 2s 67us/step - loss: 1.5213 - mean_squared_error: 1.5213 - val_loss: 1.0576 - val_mean_squared_error: 1.0576\n",
      "Epoch 55/80\n",
      "34140/34140 [==============================] - 2s 64us/step - loss: 1.5293 - mean_squared_error: 1.5293 - val_loss: 1.4716 - val_mean_squared_error: 1.4716\n",
      "Epoch 56/80\n",
      "34140/34140 [==============================] - 2s 59us/step - loss: 1.5236 - mean_squared_error: 1.5236 - val_loss: 1.3839 - val_mean_squared_error: 1.3839\n",
      "Epoch 57/80\n",
      "34140/34140 [==============================] - 2s 59us/step - loss: 1.5191 - mean_squared_error: 1.5191 - val_loss: 1.6170 - val_mean_squared_error: 1.6170\n",
      "Epoch 58/80\n",
      "34140/34140 [==============================] - 2s 58us/step - loss: 1.5230 - mean_squared_error: 1.5230 - val_loss: 1.3264 - val_mean_squared_error: 1.3264\n",
      "Epoch 59/80\n",
      "34140/34140 [==============================] - 2s 57us/step - loss: 1.5184 - mean_squared_error: 1.5184 - val_loss: 1.4470 - val_mean_squared_error: 1.4470\n",
      "Epoch 60/80\n",
      "34140/34140 [==============================] - 2s 60us/step - loss: 1.5094 - mean_squared_error: 1.5094 - val_loss: 1.3100 - val_mean_squared_error: 1.3100\n",
      "Epoch 61/80\n",
      "34140/34140 [==============================] - 2s 53us/step - loss: 1.5051 - mean_squared_error: 1.5051 - val_loss: 1.2184 - val_mean_squared_error: 1.2184\n",
      "Epoch 62/80\n",
      "34140/34140 [==============================] - 2s 50us/step - loss: 1.5001 - mean_squared_error: 1.5001 - val_loss: 1.4032 - val_mean_squared_error: 1.4032\n",
      "Epoch 63/80\n",
      "34140/34140 [==============================] - 2s 52us/step - loss: 1.5134 - mean_squared_error: 1.5134 - val_loss: 1.5037 - val_mean_squared_error: 1.5037\n",
      "Epoch 64/80\n",
      "34140/34140 [==============================] - 2s 54us/step - loss: 1.5036 - mean_squared_error: 1.5036 - val_loss: 1.2371 - val_mean_squared_error: 1.2371\n",
      "Epoch 65/80\n",
      "34140/34140 [==============================] - 2s 58us/step - loss: 1.4951 - mean_squared_error: 1.4951 - val_loss: 1.4829 - val_mean_squared_error: 1.4829\n",
      "Epoch 66/80\n",
      "34140/34140 [==============================] - 2s 59us/step - loss: 1.5025 - mean_squared_error: 1.5025 - val_loss: 1.1665 - val_mean_squared_error: 1.1665\n",
      "Epoch 67/80\n",
      "34140/34140 [==============================] - 2s 59us/step - loss: 1.5006 - mean_squared_error: 1.5006 - val_loss: 1.1366 - val_mean_squared_error: 1.1366\n",
      "Epoch 68/80\n",
      "34140/34140 [==============================] - 2s 59us/step - loss: 1.4955 - mean_squared_error: 1.4955 - val_loss: 1.7033 - val_mean_squared_error: 1.7033\n",
      "Epoch 69/80\n",
      "34140/34140 [==============================] - 2s 59us/step - loss: 1.4914 - mean_squared_error: 1.4914 - val_loss: 1.4950 - val_mean_squared_error: 1.4950\n",
      "Epoch 70/80\n",
      "34140/34140 [==============================] - 2s 68us/step - loss: 1.4913 - mean_squared_error: 1.4913 - val_loss: 1.2061 - val_mean_squared_error: 1.2061\n",
      "Epoch 71/80\n",
      "34140/34140 [==============================] - 2s 72us/step - loss: 1.4879 - mean_squared_error: 1.4879 - val_loss: 1.2072 - val_mean_squared_error: 1.2072\n",
      "Epoch 72/80\n",
      "34140/34140 [==============================] - 2s 73us/step - loss: 1.4903 - mean_squared_error: 1.4903 - val_loss: 1.2520 - val_mean_squared_error: 1.2520\n",
      "Epoch 73/80\n",
      "34140/34140 [==============================] - 3s 73us/step - loss: 1.4845 - mean_squared_error: 1.4845 - val_loss: 1.5594 - val_mean_squared_error: 1.5594\n",
      "Epoch 74/80\n",
      "34140/34140 [==============================] - 2s 64us/step - loss: 1.4784 - mean_squared_error: 1.4784 - val_loss: 1.1026 - val_mean_squared_error: 1.1026\n",
      "Epoch 75/80\n",
      "34140/34140 [==============================] - 2s 60us/step - loss: 1.4832 - mean_squared_error: 1.4832 - val_loss: 1.1949 - val_mean_squared_error: 1.1949\n",
      "Epoch 76/80\n",
      "34140/34140 [==============================] - 2s 60us/step - loss: 1.4684 - mean_squared_error: 1.4684 - val_loss: 1.3525 - val_mean_squared_error: 1.3525\n",
      "Epoch 77/80\n",
      "34140/34140 [==============================] - 2s 58us/step - loss: 1.4707 - mean_squared_error: 1.4707 - val_loss: 1.3039 - val_mean_squared_error: 1.3039\n",
      "Epoch 78/80\n",
      "34140/34140 [==============================] - 2s 59us/step - loss: 1.4724 - mean_squared_error: 1.4724 - val_loss: 1.3388 - val_mean_squared_error: 1.3388\n",
      "Epoch 79/80\n",
      "34140/34140 [==============================] - 2s 60us/step - loss: 1.4706 - mean_squared_error: 1.4706 - val_loss: 1.4895 - val_mean_squared_error: 1.4895\n",
      "Epoch 80/80\n",
      "34140/34140 [==============================] - 2s 59us/step - loss: 1.4726 - mean_squared_error: 1.4726 - val_loss: 1.1971 - val_mean_squared_error: 1.1971\n"
     ]
    },
    {
     "data": {
      "text/plain": [
       "GridSearchCV(cv=2, error_score='raise-deprecating',\n",
       "       estimator=Pipeline(memory=None,\n",
       "     steps=[('trans', TextTransformer(maxlen=150, num_words=None)), ('sampl', SMOTE(k_neighbors=3, kind='deprecated', m_neighbors='deprecated', n_jobs=1,\n",
       "   out_step='deprecated', random_state=42, ratio=None,\n",
       "   sampling_strategy='auto', svm_estimator='deprecated')), ('reg', <keras.wrappers.scikit_learn.KerasRegressor object at 0x7f66da544f28>)]),\n",
       "       fit_params=None, iid='warn', n_jobs=-1,\n",
       "       param_grid=[{'trans__num_words': [None, 7000], 'trans__maxlen': [300], 'reg__maxlen': [300], 'reg__dropout': [0.1, 0.2], 'reg__neurons': [10, 100], 'reg__optimizer': ['adam', 'Adadelta']}, {'trans__num_words': [None, 7000], 'trans__maxlen': [120], 'reg__maxlen': [120], 'reg__dropout': [0.1, 0.2], 'r...60], 'reg__dropout': [0.1, 0.2], 'reg__neurons': [10, 100], 'reg__optimizer': ['adam', 'Adadelta']}],\n",
       "       pre_dispatch='2*n_jobs', refit=True, return_train_score='warn',\n",
       "       scoring=make_scorer(custom_mse_metric, greater_is_better=False),\n",
       "       verbose=1)"
      ]
     },
     "execution_count": 83,
     "metadata": {},
     "output_type": "execute_result"
    }
   ],
   "source": [
    "gs_w2v_nn.fit(X_train, y_train)"
   ]
  },
  {
   "cell_type": "code",
   "execution_count": 84,
   "metadata": {},
   "outputs": [
    {
     "name": "stdout",
     "output_type": "stream",
     "text": [
      "3587/3587 [==============================] - 0s 59us/step\n"
     ]
    }
   ],
   "source": [
    "y_pred_w2v_NN = gs_w2v_nn.predict(X_test)\n",
    "cv_results_w2v_nn = pd.DataFrame(gs_w2v_nn.cv_results_)\n",
    "cv_results_w2v_nn.to_csv(\"cv_results_w2v_nn.csv\")"
   ]
  },
  {
   "cell_type": "code",
   "execution_count": 85,
   "metadata": {},
   "outputs": [],
   "source": [
    "with open('best_estimator_w2v_NN.pickle', 'wb') as f:\n",
    "        pickle.dump(gs_w2v_nn.best_estimator_, f, protocol=2)"
   ]
  },
  {
   "cell_type": "code",
   "execution_count": 124,
   "metadata": {},
   "outputs": [],
   "source": [
    "y_pred_w2v_NN = [5 if x>=5 else x for x in y_pred_w2v_NN]"
   ]
  },
  {
   "cell_type": "markdown",
   "metadata": {},
   "source": [
    "### Plotten der Ergebnisse\n",
    "\n",
    "die nachfolgende Funktion stellt die Predictions der Modelle auf den Testdatensatz dar. Durch den Plot kann man einen Eindruck dafür bekommen, wie gut die Modelle innerhalb der einzelnen Klassen performen (obwohl es sich um eine Regression handelt)."
   ]
  },
  {
   "cell_type": "code",
   "execution_count": 125,
   "metadata": {},
   "outputs": [
    {
     "data": {
      "image/png": "[encoded data removed]",
      "text/plain": [
       "<Figure size 1440x720 with 1 Axes>"
      ]
     },
     "metadata": {},
     "output_type": "display_data"
    }
   ],
   "source": [
    "plot_results(y_test, [y_pred_ADA_RF, y_pred_ROS_LGB, y_pred_SMOTE_Ridge, y_pred_RUS_LR, y_pred_w2v_NN], \n",
    "                     [y_pred_ADA_RF_pp_only, y_pred_ROS_LGB_pp_only, y_pred_SMOTE_Ridge_pp_only, y_pred_RUS_LR_pp_only, y_pred_w2v_NN],\n",
    "                     [\"ADA_RF\", \"ROS_LGB\",\"SMOTE_Ridge\",\"RUS_LR\", \"W2V_NN\"])"
   ]
  },
  {
   "cell_type": "markdown",
   "metadata": {},
   "source": [
    "### Analysiere gefundene Parameter\n",
    "\n",
    "hier wird geprüft ob die optimalen Parameterbelegungen Modellabhängig oder -unabhängig sind. "
   ]
  },
  {
   "cell_type": "code",
   "execution_count": 88,
   "metadata": {},
   "outputs": [
    {
     "data": {
      "text/plain": [
       "{'reg__learning_rate': 0.1,\n",
       " 'reg__max_depth': 3,\n",
       " 'reg__n_estimators': 100,\n",
       " 'sampl__sampling_strategy': 'auto',\n",
       " 'tfidf__use_idf': True,\n",
       " 'vect__binary': True,\n",
       " 'vect__max_df': 1.0,\n",
       " 'vect__max_features': None,\n",
       " 'vect__ngram_range': (1, 1)}"
      ]
     },
     "execution_count": 88,
     "metadata": {},
     "output_type": "execute_result"
    }
   ],
   "source": [
    "cv_results_ROS_LGB.sort_values(\"rank_test_score\")[\"params\"][0]"
   ]
  },
  {
   "cell_type": "code",
   "execution_count": 89,
   "metadata": {},
   "outputs": [
    {
     "data": {
      "text/plain": [
       "{'sampl__n_neighbors': 1,\n",
       " 'sampl__sampling_strategy': 'auto',\n",
       " 'tfidf__use_idf': True,\n",
       " 'vect__binary': True,\n",
       " 'vect__max_df': 1.0,\n",
       " 'vect__max_features': None,\n",
       " 'vect__ngram_range': (1, 1)}"
      ]
     },
     "execution_count": 89,
     "metadata": {},
     "output_type": "execute_result"
    }
   ],
   "source": [
    "cv_results_ADA_RF.sort_values(\"rank_test_score\")[\"params\"][0]"
   ]
  },
  {
   "cell_type": "code",
   "execution_count": 90,
   "metadata": {
    "scrolled": true
   },
   "outputs": [
    {
     "data": {
      "text/plain": [
       "{'sampl__k_neighbors': 1,\n",
       " 'sampl__sampling_strategy': 'auto',\n",
       " 'tfidf__use_idf': True,\n",
       " 'vect__binary': True,\n",
       " 'vect__max_df': 1.0,\n",
       " 'vect__max_features': None,\n",
       " 'vect__ngram_range': (1, 1)}"
      ]
     },
     "execution_count": 90,
     "metadata": {},
     "output_type": "execute_result"
    }
   ],
   "source": [
    "cv_results_SMOTE_Ridge.sort_values(\"rank_test_score\")[\"params\"][0]"
   ]
  },
  {
   "cell_type": "code",
   "execution_count": 91,
   "metadata": {},
   "outputs": [
    {
     "data": {
      "text/plain": [
       "{'sampl__sampling_strategy': 'auto',\n",
       " 'tfidf__use_idf': True,\n",
       " 'vect__binary': True,\n",
       " 'vect__max_df': 1.0,\n",
       " 'vect__max_features': None,\n",
       " 'vect__ngram_range': (1, 1)}"
      ]
     },
     "execution_count": 91,
     "metadata": {},
     "output_type": "execute_result"
    }
   ],
   "source": [
    "cv_results_RUS_LR.sort_values(\"rank_test_score\")[\"params\"][0]"
   ]
  },
  {
   "cell_type": "markdown",
   "metadata": {},
   "source": [
    "### Wo sind Modelle mit Negationshandling besser?\n",
    "hier soll untersucht werden in welchen Klassen die Modelle mit Negationshandling bessere Vorhersagen liefern"
   ]
  },
  {
   "cell_type": "markdown",
   "metadata": {},
   "source": [
    "ROS_LGB"
   ]
  },
  {
   "cell_type": "code",
   "execution_count": 98,
   "metadata": {},
   "outputs": [
    {
     "name": "stdout",
     "output_type": "stream",
     "text": [
      "MSE for Classes:\n",
      "Class 4.0: MSE:0.3315960011038691 MAE:0.4501922404225439\n",
      "Class 2.0: MSE:0.7098735633281613 MAE:0.6778360952677476\n",
      "Class 5.0: MSE:1.161131729422977 MAE:0.9256286872392493\n",
      "Class 3.0: MSE:0.376424309251455 MAE:0.49132457667336477\n",
      "Class 1.0: MSE:1.9793820319685944 MAE:1.1872131527019494\n",
      "\n",
      "AVG MSE over Classes 0.9116815270150113\n",
      "AVG MAE over Classes 0.746438950460971\n",
      "\n",
      "Global: MAE: 0.7503700381216033 MSE 0.8571123909936138\n"
     ]
    }
   ],
   "source": [
    "display_metric(y_test, y_pred_ROS_LGB)"
   ]
  },
  {
   "cell_type": "code",
   "execution_count": 99,
   "metadata": {},
   "outputs": [
    {
     "name": "stdout",
     "output_type": "stream",
     "text": [
      "MSE for Classes:\n",
      "Class 4.0: MSE:0.32866129455103554 MAE:0.4580635039380524\n",
      "Class 2.0: MSE:0.7307018348690323 MAE:0.7193674485252869\n",
      "Class 5.0: MSE:1.2124233278087597 MAE:0.9589800253290729\n",
      "Class 3.0: MSE:0.3655448541651953 MAE:0.48395369423697665\n",
      "Class 1.0: MSE:1.9526474280529567 MAE:1.1582153476645463\n",
      "\n",
      "AVG MSE over Classes 0.9179957478893959\n",
      "AVG MAE over Classes 0.755716003938787\n",
      "\n",
      "Global: MAE: 0.7726732267628998 MSE 0.886160104566294\n"
     ]
    }
   ],
   "source": [
    "display_metric(y_test, y_pred_ROS_LGB_pp_only)"
   ]
  },
  {
   "cell_type": "markdown",
   "metadata": {},
   "source": [
    "ADA_RF"
   ]
  },
  {
   "cell_type": "code",
   "execution_count": 100,
   "metadata": {},
   "outputs": [
    {
     "name": "stdout",
     "output_type": "stream",
     "text": [
      "MSE for Classes:\n",
      "Class 4.0: MSE:0.22440761784511784 MAE:0.33443813131313127\n",
      "Class 2.0: MSE:2.112921348314607 MAE:1.1404494382022472\n",
      "Class 5.0: MSE:0.40720712277413307 MAE:0.4597938144329897\n",
      "Class 3.0: MSE:0.7702255639097744 MAE:0.6646616541353384\n",
      "Class 1.0: MSE:4.320714285714285 MAE:1.65\n",
      "\n",
      "AVG MSE over Classes 1.5670951877115835\n",
      "AVG MAE over Classes 0.8498686076167413\n",
      "\n",
      "Global: MAE: 0.468906235479974 MSE 0.4684567729145371\n"
     ]
    }
   ],
   "source": [
    "display_metric(y_test, y_pred_ADA_RF)"
   ]
  },
  {
   "cell_type": "code",
   "execution_count": 101,
   "metadata": {},
   "outputs": [
    {
     "name": "stdout",
     "output_type": "stream",
     "text": [
      "MSE for Classes:\n",
      "Class 4.0: MSE:0.23451472634508347 MAE:0.32798971861471865\n",
      "Class 2.0: MSE:2.1225842696629216 MAE:1.1067415730337078\n",
      "Class 5.0: MSE:0.44537540351973337 MAE:0.46704154951577626\n",
      "Class 3.0: MSE:0.8200000000000001 MAE:0.6676691729323309\n",
      "Class 1.0: MSE:4.437857142857142 MAE:1.6452380952380952\n",
      "\n",
      "AVG MSE over Classes 1.612066308476976\n",
      "AVG MAE over Classes 0.8429360218669257\n",
      "\n",
      "Global: MAE: 0.4706506299202145 MSE 0.4994420580238414\n"
     ]
    }
   ],
   "source": [
    "display_metric(y_test, y_pred_ADA_RF_pp_only)"
   ]
  },
  {
   "cell_type": "markdown",
   "metadata": {},
   "source": [
    "SMOTE_RIDGE"
   ]
  },
  {
   "cell_type": "code",
   "execution_count": 102,
   "metadata": {},
   "outputs": [
    {
     "name": "stdout",
     "output_type": "stream",
     "text": [
      "MSE for Classes:\n",
      "Class 4.0: MSE:0.322904810651392 MAE:0.44929241601742914\n",
      "Class 2.0: MSE:0.7012413970684069 MAE:0.6023753640293821\n",
      "Class 5.0: MSE:0.5387486303899935 MAE:0.5483554018546468\n",
      "Class 3.0: MSE:0.5214011312608995 MAE:0.5625878999175998\n",
      "Class 1.0: MSE:2.027420253143177 MAE:1.0478451291099073\n",
      "\n",
      "AVG MSE over Classes 0.8223432445027739\n",
      "AVG MAE over Classes 0.642091242185793\n",
      "\n",
      "Global: MAE: 0.5274358804213923 MSE 0.49538106863301284\n"
     ]
    }
   ],
   "source": [
    "display_metric(y_test, y_pred_SMOTE_Ridge)"
   ]
  },
  {
   "cell_type": "code",
   "execution_count": 103,
   "metadata": {},
   "outputs": [
    {
     "name": "stdout",
     "output_type": "stream",
     "text": [
      "MSE for Classes:\n",
      "Class 4.0: MSE:0.2902449584319919 MAE:0.427632422712767\n",
      "Class 2.0: MSE:0.8525570733462441 MAE:0.6875892627745445\n",
      "Class 5.0: MSE:0.5085991826961256 MAE:0.5280464420825491\n",
      "Class 3.0: MSE:0.49930913421240347 MAE:0.5414362048473162\n",
      "Class 1.0: MSE:2.4294042153707602 MAE:1.133814677385647\n",
      "\n",
      "AVG MSE over Classes 0.916022912811505\n",
      "AVG MAE over Classes 0.6637038019605648\n",
      "\n",
      "Global: MAE: 0.5105293105980929 MSE 0.4746523886957352\n"
     ]
    }
   ],
   "source": [
    "display_metric(y_test, y_pred_SMOTE_Ridge_pp_only)"
   ]
  },
  {
   "cell_type": "markdown",
   "metadata": {},
   "source": [
    "RUS_RF"
   ]
  },
  {
   "cell_type": "code",
   "execution_count": 106,
   "metadata": {},
   "outputs": [
    {
     "name": "stdout",
     "output_type": "stream",
     "text": [
      "MSE for Classes:\n",
      "Class 4.0: MSE:0.5127252844102038 MAE:0.5670451432838589\n",
      "Class 2.0: MSE:0.42551588173178945 MAE:0.41532631923568375\n",
      "Class 5.0: MSE:1.6426817352818177 MAE:1.1334636315078095\n",
      "Class 3.0: MSE:0.40679979381398396 MAE:0.47732546251331154\n",
      "Class 1.0: MSE:1.305101354531947 MAE:0.806119101882471\n",
      "\n",
      "AVG MSE over Classes 0.8585648099539483\n",
      "AVG MAE over Classes 0.679855931684627\n",
      "\n",
      "Global: MAE: 0.896403869156677 MSE 1.1842248784353402\n"
     ]
    }
   ],
   "source": [
    "display_metric(y_test, y_pred_RUS_LR)"
   ]
  },
  {
   "cell_type": "code",
   "execution_count": 108,
   "metadata": {},
   "outputs": [
    {
     "name": "stdout",
     "output_type": "stream",
     "text": [
      "MSE for Classes:\n",
      "Class 4.0: MSE:0.5260473146139139 MAE:0.5762568930968227\n",
      "Class 2.0: MSE:0.4662574182249539 MAE:0.46350663276648424\n",
      "Class 5.0: MSE:1.7443991109212658 MAE:1.1815423842516382\n",
      "Class 3.0: MSE:0.3863979007330594 MAE:0.4677833667785248\n",
      "Class 1.0: MSE:1.622289023789919 MAE:0.8829947242058461\n",
      "\n",
      "AVG MSE over Classes 0.9490781536566224\n",
      "AVG MAE over Classes 0.7144168002198632\n",
      "\n",
      "Global: MAE: 0.9291070452743773 MSE 1.2518730297614902\n"
     ]
    }
   ],
   "source": [
    "display_metric(y_test, y_pred_RUS_LR_pp_only)"
   ]
  },
  {
   "cell_type": "code",
   "execution_count": null,
   "metadata": {},
   "outputs": [],
   "source": []
  }
 ],
 "metadata": {
  "kernelspec": {
   "display_name": "Python 3",
   "language": "python",
   "name": "python3"
  },
  "language_info": {
   "codemirror_mode": {
    "name": "ipython",
    "version": 3
   },
   "file_extension": ".py",
   "mimetype": "text/x-python",
   "name": "python",
   "nbconvert_exporter": "python",
   "pygments_lexer": "ipython3",
   "version": "3.6.6"
  }
 },
 "nbformat": 4,
 "nbformat_minor": 2
}
